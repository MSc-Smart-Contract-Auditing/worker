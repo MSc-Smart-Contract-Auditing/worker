{
 "cells": [
  {
   "cell_type": "code",
   "execution_count": 1,
   "metadata": {},
   "outputs": [],
   "source": [
    "PORT = 5000\n",
    "env = 'LOCAL' # LOCAL | ICL"
   ]
  },
  {
   "cell_type": "code",
   "execution_count": 2,
   "metadata": {},
   "outputs": [],
   "source": [
    "from pathlib import Path\n",
    "\n",
    "if env == 'LOCAL':\n",
    "    WORK_DIR = Path('.')\n",
    "elif env == 'ICL':\n",
    "    import os\n",
    "    WORK_DIR = Path('/vol/bitbucket/') / os.getenv(\"USER\") / 'worker'"
   ]
  },
  {
   "cell_type": "code",
   "execution_count": 3,
   "metadata": {},
   "outputs": [
    {
     "name": "stderr",
     "output_type": "stream",
     "text": [
      "INFO:     Started server process [53118]\n",
      "INFO:     Waiting for application startup.\n",
      "INFO:     Application startup complete.\n",
      "INFO:     Uvicorn running on http://0.0.0.0:5000 (Press CTRL+C to quit)\n"
     ]
    },
    {
     "name": "stdout",
     "output_type": "stream",
     "text": [
      "INFO:     127.0.0.1:63030 - \"POST /process HTTP/1.1\" 200 OK\n"
     ]
    },
    {
     "name": "stderr",
     "output_type": "stream",
     "text": [
      "INFO:     ('127.0.0.1', 63032) - \"WebSocket /ws/b037ac6e-bce2-4d01-902a-b8d451d4f01e\" [accepted]\n",
      "INFO:     connection open\n",
      "INFO:     connection closed\n"
     ]
    },
    {
     "name": "stdout",
     "output_type": "stream",
     "text": [
      "Socket b037ac6e-bce2-4d01-902a-b8d451d4f01e disconnected\n",
      "INFO:     127.0.0.1:63080 - \"POST /process HTTP/1.1\" 200 OK\n"
     ]
    },
    {
     "name": "stderr",
     "output_type": "stream",
     "text": [
      "INFO:     ('127.0.0.1', 63082) - \"WebSocket /ws/77811fa0-f48c-43eb-bc7d-683ea3b045da\" [accepted]\n",
      "INFO:     connection open\n",
      "INFO:     connection closed\n"
     ]
    },
    {
     "name": "stdout",
     "output_type": "stream",
     "text": [
      "Socket 77811fa0-f48c-43eb-bc7d-683ea3b045da disconnected\n"
     ]
    }
   ],
   "source": [
    "import uvicorn\n",
    "import nest_asyncio\n",
    "from fastapi import FastAPI, WebSocket, WebSocketDisconnect, HTTPException, BackgroundTasks\n",
    "from fastapi.responses import JSONResponse\n",
    "from fastapi.middleware.cors import CORSMiddleware\n",
    "from src.constants import UI_URL, WORKER_URL\n",
    "from src.models import ProcessRequest\n",
    "from src.socket import Socket\n",
    "\n",
    "from dummy_response import audit\n",
    "\n",
    "import asyncio\n",
    "\n",
    "nest_asyncio.apply()\n",
    "\n",
    "app = FastAPI()\n",
    "\n",
    "origins = [\n",
    "    str(UI_URL),\n",
    "    str(WORKER_URL),\n",
    "]\n",
    "\n",
    "app.add_middleware(\n",
    "    CORSMiddleware,\n",
    "    allow_origins=origins,\n",
    "    allow_credentials=True,\n",
    "    allow_methods=[\"*\"],\n",
    "    allow_headers=[\"*\"],\n",
    ")\n",
    "\n",
    "# TODO: If the UI never connects persist the result for sometime\n",
    "# and return it when the UI tries to connect\n",
    "async def process_work(data: dict):\n",
    "    await asyncio.sleep(0.5)\n",
    "    await Socket.send({\"status\": \"building_dt\"})\n",
    "    await asyncio.sleep(0.5)\n",
    "\n",
    "    # Simulate work processing\n",
    "    steps = 5\n",
    "    for i in range(steps):\n",
    "        await asyncio.sleep(0.5)\n",
    "        await Socket.send({\n",
    "            \"status\": \"analyzing\",\n",
    "            \"progress\": {\"current\": i+1, \"total\": steps}\n",
    "        })\n",
    "\n",
    "    await Socket.send({\n",
    "        \"status\": \"complete\",\n",
    "        \"done\": True,\n",
    "        \"result\": audit\n",
    "    })\n",
    "    await Socket.close()\n",
    "\n",
    "@app.post(\"/process\")\n",
    "async def process(request: ProcessRequest, background_tasks: BackgroundTasks):\n",
    "    Socket.register_incoming_id(request.socket)\n",
    "    background_tasks.add_task(process_work, request)\n",
    "    return JSONResponse(content={\"status\": 200})\n",
    "\n",
    "@app.websocket(\"/ws/{socket_id}\")\n",
    "async def websocket_endpoint(websocket: WebSocket, socket_id: str):\n",
    "    async with Socket(websocket, socket_id) as connection:\n",
    "        await connection.listen()\n",
    "\n",
    "\n",
    "if __name__ == \"__main__\":\n",
    "    import uvicorn\n",
    "    uvicorn.run(app, host=\"0.0.0.0\", port=PORT)"
   ]
  }
 ],
 "metadata": {
  "kernelspec": {
   "display_name": "Python 3 (ipykernel)",
   "language": "python",
   "name": "python3"
  },
  "language_info": {
   "codemirror_mode": {
    "name": "ipython",
    "version": 3
   },
   "file_extension": ".py",
   "mimetype": "text/x-python",
   "name": "python",
   "nbconvert_exporter": "python",
   "pygments_lexer": "ipython3",
   "version": "3.10.13"
  }
 },
 "nbformat": 4,
 "nbformat_minor": 2
}
