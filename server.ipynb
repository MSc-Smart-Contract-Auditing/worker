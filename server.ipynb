{
 "cells": [
  {
   "cell_type": "code",
   "execution_count": null,
   "metadata": {},
   "outputs": [],
   "source": [
    "PORT = 5000\n",
    "env = 'ICL' # LOCAL | ICL"
   ]
  },
  {
   "cell_type": "code",
   "execution_count": null,
   "metadata": {},
   "outputs": [],
   "source": [
    "from pathlib import Path\n",
    "import os\n",
    "\n",
    "if env == 'LOCAL':\n",
    "    WORK_DIR = Path('.')\n",
    "elif env == 'ICL':\n",
    "    import os, sys\n",
    "    WORK_DIR = Path('/vol/bitbucket/') / os.getenv(\"USER\") / 'worker'\n",
    "    # !pip install -r {WORK_DIR}/requirements.txt\n",
    "\n",
    "    if not WORK_DIR in sys.path:\n",
    "        sys.path.append(str(WORK_DIR))\n",
    "\n",
    "os.environ['WORK_DIR'] = str(WORK_DIR)"
   ]
  },
  {
   "cell_type": "code",
   "execution_count": null,
   "metadata": {},
   "outputs": [],
   "source": [
    "from src.analysis.model import MODEL\n",
    "MODEL.load()"
   ]
  },
  {
   "cell_type": "code",
   "execution_count": 12,
   "metadata": {},
   "outputs": [
    {
     "name": "stderr",
     "output_type": "stream",
     "text": [
      "INFO:     Started server process [2022817]\n",
      "INFO:     Waiting for application startup.\n",
      "INFO:     Application startup complete.\n",
      "INFO:     Uvicorn running on http://0.0.0.0:5000 (Press CTRL+C to quit)\n"
     ]
    },
    {
     "name": "stdout",
     "output_type": "stream",
     "text": [
      "Starting work request id: 8343e901-22c7-4333-9a7a-55d28525b6ed\n",
      "INFO:     127.0.0.1:58638 - \"POST /process HTTP/1.1\" 200 OK\n"
     ]
    },
    {
     "name": "stderr",
     "output_type": "stream",
     "text": [
      "ERROR:    Exception in ASGI application\n",
      "Traceback (most recent call last):\n",
      "  File \"/vol/bitbucket/kza23/msc/lib/python3.10/site-packages/uvicorn/protocols/http/h11_impl.py\", line 398, in run_asgi\n",
      "    result = await app(  # type: ignore[func-returns-value]\n",
      "  File \"/vol/bitbucket/kza23/msc/lib/python3.10/site-packages/uvicorn/middleware/proxy_headers.py\", line 70, in __call__\n",
      "    return await self.app(scope, receive, send)\n",
      "  File \"/vol/bitbucket/kza23/msc/lib/python3.10/site-packages/fastapi/applications.py\", line 1054, in __call__\n",
      "    await super().__call__(scope, receive, send)\n",
      "  File \"/vol/bitbucket/kza23/msc/lib/python3.10/site-packages/starlette/applications.py\", line 123, in __call__\n",
      "    await self.middleware_stack(scope, receive, send)\n",
      "  File \"/vol/bitbucket/kza23/msc/lib/python3.10/site-packages/starlette/middleware/errors.py\", line 186, in __call__\n",
      "    raise exc\n",
      "  File \"/vol/bitbucket/kza23/msc/lib/python3.10/site-packages/starlette/middleware/errors.py\", line 164, in __call__\n",
      "    await self.app(scope, receive, _send)\n",
      "  File \"/vol/bitbucket/kza23/msc/lib/python3.10/site-packages/starlette/middleware/cors.py\", line 85, in __call__\n",
      "    await self.app(scope, receive, send)\n",
      "  File \"/vol/bitbucket/kza23/msc/lib/python3.10/site-packages/starlette/middleware/exceptions.py\", line 65, in __call__\n",
      "    await wrap_app_handling_exceptions(self.app, conn)(scope, receive, send)\n",
      "  File \"/vol/bitbucket/kza23/msc/lib/python3.10/site-packages/starlette/_exception_handler.py\", line 64, in wrapped_app\n",
      "    raise exc\n",
      "  File \"/vol/bitbucket/kza23/msc/lib/python3.10/site-packages/starlette/_exception_handler.py\", line 53, in wrapped_app\n",
      "    await app(scope, receive, sender)\n",
      "  File \"/vol/bitbucket/kza23/msc/lib/python3.10/site-packages/starlette/routing.py\", line 756, in __call__\n",
      "    await self.middleware_stack(scope, receive, send)\n",
      "  File \"/vol/bitbucket/kza23/msc/lib/python3.10/site-packages/starlette/routing.py\", line 776, in app\n",
      "    await route.handle(scope, receive, send)\n",
      "  File \"/vol/bitbucket/kza23/msc/lib/python3.10/site-packages/starlette/routing.py\", line 297, in handle\n",
      "    await self.app(scope, receive, send)\n",
      "  File \"/vol/bitbucket/kza23/msc/lib/python3.10/site-packages/starlette/routing.py\", line 77, in app\n",
      "    await wrap_app_handling_exceptions(app, request)(scope, receive, send)\n",
      "  File \"/vol/bitbucket/kza23/msc/lib/python3.10/site-packages/starlette/_exception_handler.py\", line 64, in wrapped_app\n",
      "    raise exc\n",
      "  File \"/vol/bitbucket/kza23/msc/lib/python3.10/site-packages/starlette/_exception_handler.py\", line 53, in wrapped_app\n",
      "    await app(scope, receive, sender)\n",
      "  File \"/vol/bitbucket/kza23/msc/lib/python3.10/site-packages/starlette/routing.py\", line 75, in app\n",
      "    await response(scope, receive, send)\n",
      "  File \"/vol/bitbucket/kza23/msc/lib/python3.10/site-packages/starlette/responses.py\", line 162, in __call__\n",
      "    await self.background()\n",
      "  File \"/vol/bitbucket/kza23/msc/lib/python3.10/site-packages/starlette/background.py\", line 45, in __call__\n",
      "    await task()\n",
      "  File \"/vol/bitbucket/kza23/msc/lib/python3.10/site-packages/starlette/background.py\", line 28, in __call__\n",
      "    await self.func(*self.args, **self.kwargs)\n",
      "  File \"/vol/bitbucket/kza23/worker/src/work.py\", line 15, in process_work\n",
      "    await SocketService.send({\"status\": \"building_dt\"})\n",
      "  File \"/vol/bitbucket/kza23/worker/src/socket_service.py\", line 14, in send\n",
      "    await SocketService.__active.__send(message)\n",
      "  File \"/vol/bitbucket/kza23/worker/src/socket_service.py\", line 64, in __send\n",
      "    async def __send(self, message: Status):\n",
      "  File \"/vol/bitbucket/kza23/msc/lib/python3.10/site-packages/starlette/websockets.py\", line 198, in send_json\n",
      "    await self.send({\"type\": \"websocket.send\", \"text\": text})\n",
      "  File \"/vol/bitbucket/kza23/msc/lib/python3.10/site-packages/starlette/websockets.py\", line 112, in send\n",
      "    raise RuntimeError('Cannot call \"send\" once a close message has been sent.')\n",
      "RuntimeError: Cannot call \"send\" once a close message has been sent.\n"
     ]
    },
    {
     "name": "stdout",
     "output_type": "stream",
     "text": [
      "Starting tree\n",
      "<src.socket_service.SocketService object at 0x7173c5b60f40>\n"
     ]
    },
    {
     "name": "stderr",
     "output_type": "stream",
     "text": [
      "INFO:     ('127.0.0.1', 58652) - \"WebSocket /ws/8343e901-22c7-4333-9a7a-55d28525b6ed\" [accepted]\n",
      "INFO:     connection open\n"
     ]
    },
    {
     "name": "stdout",
     "output_type": "stream",
     "text": [
      "Connection accepted!\n"
     ]
    }
   ],
   "source": [
    "import uvicorn\n",
    "import nest_asyncio\n",
    "from fastapi import FastAPI, WebSocket, BackgroundTasks\n",
    "from fastapi.responses import JSONResponse\n",
    "from fastapi.middleware.cors import CORSMiddleware\n",
    "from src.constants import UI_URL, WORKER_URL\n",
    "from src.socket_service import SocketService\n",
    "from src.work import process_work\n",
    "from src.models.requests import ProcessRequest\n",
    "\n",
    "nest_asyncio.apply()\n",
    "\n",
    "app = FastAPI()\n",
    "\n",
    "origins = [\n",
    "    str(UI_URL),\n",
    "    str(WORKER_URL),\n",
    "]\n",
    "\n",
    "app.add_middleware(\n",
    "    CORSMiddleware,\n",
    "    allow_origins=origins,\n",
    "    allow_credentials=True,\n",
    "    allow_methods=[\"*\"],\n",
    "    allow_headers=[\"*\"],\n",
    ")\n",
    "\n",
    "@app.post(\"/process\")\n",
    "async def process(request: ProcessRequest, background_tasks: BackgroundTasks):\n",
    "    SocketService.register_incoming_id(request.socket)\n",
    "    background_tasks.add_task(process_work, request.work)\n",
    "    print(f\"Starting work request id: {request.socket}\")\n",
    "    return JSONResponse(content={\"status\": 200})\n",
    "\n",
    "@app.websocket(\"/ws/{socket_id}\")\n",
    "async def websocket_endpoint(websocket: WebSocket, socket_id: str):\n",
    "    print(\"Recieved socket connection attempt\")\n",
    "    async with SocketService(websocket, socket_id) as connection:\n",
    "        await connection.listen()\n",
    "    print(\"Request done\")\n",
    "\n",
    "if __name__ == \"__main__\":\n",
    "    import uvicorn\n",
    "    uvicorn.run(app, host=\"0.0.0.0\", port=PORT)"
   ]
  }
 ],
 "metadata": {
  "kernelspec": {
   "display_name": "Python 3 (ipykernel)",
   "language": "python",
   "name": "python3"
  },
  "language_info": {
   "codemirror_mode": {
    "name": "ipython",
    "version": 3
   },
   "file_extension": ".py",
   "mimetype": "text/x-python",
   "name": "python",
   "nbconvert_exporter": "python",
   "pygments_lexer": "ipython3",
   "version": "3.10.12"
  }
 },
 "nbformat": 4,
 "nbformat_minor": 2
}
