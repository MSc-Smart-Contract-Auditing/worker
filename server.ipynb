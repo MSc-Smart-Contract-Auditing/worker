{
 "cells": [
  {
   "cell_type": "code",
   "execution_count": null,
   "metadata": {},
   "outputs": [],
   "source": [
    "PORT = 5000\n",
    "env = 'LOCAL' # LOCAL | ICL"
   ]
  },
  {
   "cell_type": "code",
   "execution_count": null,
   "metadata": {},
   "outputs": [],
   "source": [
    "from pathlib import Path\n",
    "\n",
    "if env == 'LOCAL':\n",
    "    WORK_DIR = Path('.')\n",
    "elif env == 'ICL':\n",
    "    import os\n",
    "    WORK_DIR = Path('/vol/bitbucket/') / os.getenv(\"USER\") / 'worker'"
   ]
  },
  {
   "cell_type": "code",
   "execution_count": null,
   "metadata": {},
   "outputs": [],
   "source": [
    "import uvicorn\n",
    "import nest_asyncio\n",
    "from fastapi import FastAPI, WebSocket, WebSocketDisconnect, HTTPException, BackgroundTasks\n",
    "from fastapi.responses import JSONResponse\n",
    "from fastapi.middleware.cors import CORSMiddleware\n",
    "from src.constants import UI_URL, WORKER_URL\n",
    "from src.models import ProcessRequest\n",
    "from src.socket import Socket\n",
    "\n",
    "import asyncio\n",
    "\n",
    "nest_asyncio.apply()\n",
    "\n",
    "app = FastAPI()\n",
    "\n",
    "origins = [\n",
    "    str(UI_URL),\n",
    "    str(WORKER_URL),\n",
    "]\n",
    "\n",
    "app.add_middleware(\n",
    "    CORSMiddleware,\n",
    "    allow_origins=origins,\n",
    "    allow_credentials=True,\n",
    "    allow_methods=[\"*\"],\n",
    "    allow_headers=[\"*\"],\n",
    ")\n",
    "\n",
    "# TODO: If the UI never connects persist the result for sometime\n",
    "# and return it when the UI tries to connect\n",
    "async def process_work(data: dict):\n",
    "    # Simulate work processing\n",
    "    steps = 10\n",
    "    for i in range(steps):\n",
    "        await asyncio.sleep(1)\n",
    "        await Socket.send({\"complete\": i, \"total\": steps})\n",
    "\n",
    "\n",
    "@app.post(\"/process\")\n",
    "async def process(request: ProcessRequest, background_tasks: BackgroundTasks):\n",
    "    Socket.register_incoming_id(request.socket)\n",
    "    background_tasks.add_task(process_work, request)\n",
    "    return JSONResponse(content={\"status\": 200})\n",
    "\n",
    "@app.websocket(\"/ws/{socket_id}\")\n",
    "async def websocket_endpoint(websocket: WebSocket, socket_id: str):\n",
    "    async with Socket(websocket, socket_id) as connection:\n",
    "        await connection.listen()\n",
    "\n",
    "\n",
    "if __name__ == \"__main__\":\n",
    "    import uvicorn\n",
    "    uvicorn.run(app, host=\"0.0.0.0\", port=PORT)"
   ]
  }
 ],
 "metadata": {
  "kernelspec": {
   "display_name": "Python 3 (ipykernel)",
   "language": "python",
   "name": "python3"
  },
  "language_info": {
   "codemirror_mode": {
    "name": "ipython",
    "version": 3
   },
   "file_extension": ".py",
   "mimetype": "text/x-python",
   "name": "python",
   "nbconvert_exporter": "python",
   "pygments_lexer": "ipython3",
   "version": "3.10.13"
  }
 },
 "nbformat": 4,
 "nbformat_minor": 2
}
