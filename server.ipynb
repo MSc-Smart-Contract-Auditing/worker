{
 "cells": [
  {
   "cell_type": "code",
   "execution_count": 7,
   "metadata": {},
   "outputs": [],
   "source": [
    "PORT = 5000\n",
    "env = 'ICL' # LOCAL | ICL"
   ]
  },
  {
   "cell_type": "code",
   "execution_count": 8,
   "metadata": {},
   "outputs": [],
   "source": [
    "from pathlib import Path\n",
    "\n",
    "if env == 'LOCAL':\n",
    "    WORK_DIR = Path('.')\n",
    "elif env == 'ICL':\n",
    "    import os, sys\n",
    "    WORK_DIR = Path('/vol/bitbucket/') / os.getenv(\"USER\") / 'worker'\n",
    "    # !pip install -r {WORK_DIR}/requirements.txt\n",
    "\n",
    "    if not WORK_DIR in sys.path:\n",
    "        sys.path.append(str(WORK_DIR))\n",
    "\n",
    "\n",
    "os.environ['WORK_DIR'] = str(WORK_DIR)"
   ]
  },
  {
   "cell_type": "code",
   "execution_count": 9,
   "metadata": {},
   "outputs": [
    {
     "name": "stderr",
     "output_type": "stream",
     "text": [
      "INFO:     Started server process [3955976]\n",
      "INFO:     Waiting for application startup.\n",
      "INFO:     Application startup complete.\n",
      "INFO:     Uvicorn running on http://0.0.0.0:5000 (Press CTRL+C to quit)\n"
     ]
    },
    {
     "name": "stdout",
     "output_type": "stream",
     "text": [
      "INFO:     127.0.0.1:52808 - \"POST /process HTTP/1.1\" 422 Unprocessable Entity\n"
     ]
    },
    {
     "name": "stderr",
     "output_type": "stream",
     "text": [
      "INFO:     ('127.0.0.1', 52816) - \"WebSocket /ws/8438e6fb-4db7-46a3-bb82-8aa5b82d4d85\" 403\n",
      "INFO:     connection rejected (403 Forbidden)\n",
      "INFO:     connection closed\n"
     ]
    }
   ],
   "source": [
    "import uvicorn\n",
    "import nest_asyncio\n",
    "from fastapi import FastAPI, WebSocket, BackgroundTasks\n",
    "from fastapi.responses import JSONResponse\n",
    "from fastapi.middleware.cors import CORSMiddleware\n",
    "from src.constants import UI_URL, WORKER_URL\n",
    "from src.models.requests import WorkUnit, Request\n",
    "from src.socket_service import SocketService\n",
    "from src.work import process_work\n",
    "from dummy_response import audit\n",
    "import logging\n",
    "\n",
    "nest_asyncio.apply()\n",
    "\n",
    "app = FastAPI()\n",
    "\n",
    "origins = [\n",
    "    str(UI_URL),\n",
    "    str(WORKER_URL),\n",
    "]\n",
    "\n",
    "app.add_middleware(\n",
    "    CORSMiddleware,\n",
    "    allow_origins=origins,\n",
    "    allow_credentials=True,\n",
    "    allow_methods=[\"*\"],\n",
    "    allow_headers=[\"*\"],\n",
    ")\n",
    "\n",
    "@app.post(\"/process\")\n",
    "async def process(request: Request, background_tasks: BackgroundTasks):\n",
    "    SocketService.register_incoming_id(request.socket)\n",
    "    background_tasks.add_task(process_work, request.work)\n",
    "    return JSONResponse(content={\"status\": 200})\n",
    "\n",
    "@app.websocket(\"/ws/{socket_id}\")\n",
    "async def websocket_endpoint(websocket: WebSocket, socket_id: str):\n",
    "    async with SocketService(websocket, socket_id) as connection:\n",
    "        await connection.listen()\n",
    "\n",
    "\n",
    "if __name__ == \"__main__\":\n",
    "    import uvicorn\n",
    "    uvicorn.run(app, host=\"0.0.0.0\", port=PORT)"
   ]
  }
 ],
 "metadata": {
  "kernelspec": {
   "display_name": "Python 3 (ipykernel)",
   "language": "python",
   "name": "python3"
  },
  "language_info": {
   "codemirror_mode": {
    "name": "ipython",
    "version": 3
   },
   "file_extension": ".py",
   "mimetype": "text/x-python",
   "name": "python",
   "nbconvert_exporter": "python",
   "pygments_lexer": "ipython3",
   "version": "3.10.12"
  }
 },
 "nbformat": 4,
 "nbformat_minor": 2
}
