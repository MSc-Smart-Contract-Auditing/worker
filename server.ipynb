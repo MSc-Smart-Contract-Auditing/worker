{
 "cells": [
  {
   "cell_type": "code",
   "execution_count": 5,
   "metadata": {},
   "outputs": [],
   "source": [
    "PORT = 5000\n",
    "env = 'ICL' # LOCAL | ICL"
   ]
  },
  {
   "cell_type": "code",
   "execution_count": 6,
   "metadata": {},
   "outputs": [],
   "source": [
    "from pathlib import Path\n",
    "import os\n",
    "\n",
    "if env == 'LOCAL':\n",
    "    WORK_DIR = Path('.')\n",
    "elif env == 'ICL':\n",
    "    import os, sys\n",
    "    WORK_DIR = Path('/vol/bitbucket/') / os.getenv(\"USER\") / 'worker'\n",
    "    # !pip install -r {WORK_DIR}/requirements.txt\n",
    "\n",
    "    if not WORK_DIR in sys.path:\n",
    "        sys.path.append(str(WORK_DIR))\n",
    "\n",
    "os.environ['WORK_DIR'] = str(WORK_DIR)"
   ]
  },
  {
   "cell_type": "code",
   "execution_count": 7,
   "metadata": {},
   "outputs": [
    {
     "name": "stderr",
     "output_type": "stream",
     "text": [
      "Unrecognized keys in `rope_scaling` for 'rope_type'='linear': {'type'}\n"
     ]
    },
    {
     "data": {
      "application/vnd.jupyter.widget-view+json": {
       "model_id": "5f54b6c9311f4f74bdd66ab2066894bd",
       "version_major": 2,
       "version_minor": 0
      },
      "text/plain": [
       "Loading checkpoint shards:   0%|          | 0/2 [00:00<?, ?it/s]"
      ]
     },
     "metadata": {},
     "output_type": "display_data"
    },
    {
     "name": "stderr",
     "output_type": "stream",
     "text": [
      "Task exception was never retrieved\n",
      "future: <Task finished name='Task-1' coro=<Server.serve() done, defined at /vol/bitbucket/kza23/msc/lib/python3.10/site-packages/uvicorn/server.py:67> exception=KeyboardInterrupt()>\n",
      "Traceback (most recent call last):\n",
      "  File \"/vol/bitbucket/kza23/msc/lib/python3.10/site-packages/uvicorn/main.py\", line 577, in run\n",
      "    server.run()\n",
      "  File \"/vol/bitbucket/kza23/msc/lib/python3.10/site-packages/uvicorn/server.py\", line 65, in run\n",
      "    return asyncio.run(self.serve(sockets=sockets))\n",
      "  File \"/vol/bitbucket/kza23/msc/lib/python3.10/site-packages/nest_asyncio.py\", line 30, in run\n",
      "    return loop.run_until_complete(task)\n",
      "  File \"/vol/bitbucket/kza23/msc/lib/python3.10/site-packages/nest_asyncio.py\", line 92, in run_until_complete\n",
      "    self._run_once()\n",
      "  File \"/vol/bitbucket/kza23/msc/lib/python3.10/site-packages/nest_asyncio.py\", line 133, in _run_once\n",
      "    handle._run()\n",
      "  File \"/usr/lib/python3.10/asyncio/events.py\", line 80, in _run\n",
      "    self._context.run(self._callback, *self._args)\n",
      "  File \"/usr/lib/python3.10/asyncio/tasks.py\", line 315, in __wakeup\n",
      "    self.__step()\n",
      "  File \"/usr/lib/python3.10/asyncio/tasks.py\", line 232, in __step\n",
      "    result = coro.send(None)\n",
      "  File \"/vol/bitbucket/kza23/msc/lib/python3.10/site-packages/uvicorn/server.py\", line 68, in serve\n",
      "    with self.capture_signals():\n",
      "  File \"/usr/lib/python3.10/contextlib.py\", line 142, in __exit__\n",
      "    next(self.gen)\n",
      "  File \"/vol/bitbucket/kza23/msc/lib/python3.10/site-packages/uvicorn/server.py\", line 328, in capture_signals\n",
      "    signal.raise_signal(captured_signal)\n",
      "KeyboardInterrupt\n",
      "WARNING:root:Some parameters are on the meta device device because they were offloaded to the cpu.\n"
     ]
    }
   ],
   "source": [
    "from src.analysis.model import MODEL\n",
    "MODEL.load()"
   ]
  },
  {
   "cell_type": "code",
   "execution_count": 8,
   "metadata": {},
   "outputs": [
    {
     "name": "stderr",
     "output_type": "stream",
     "text": [
      "INFO:     Started server process [2021253]\n",
      "INFO:     Waiting for application startup.\n",
      "INFO:     Application startup complete.\n",
      "INFO:     Uvicorn running on http://0.0.0.0:5000 (Press CTRL+C to quit)\n"
     ]
    },
    {
     "name": "stdout",
     "output_type": "stream",
     "text": [
      "INFO:     127.0.0.1:60684 - \"POST /process HTTP/1.1\" 200 OK\n"
     ]
    },
    {
     "name": "stderr",
     "output_type": "stream",
     "text": [
      "INFO:     ('127.0.0.1', 60696) - \"WebSocket /ws/6e1de7e0-09ee-41f8-9cf4-ec9895cb5976\" [accepted]\n",
      "INFO:     connection open\n"
     ]
    },
    {
     "name": "stdout",
     "output_type": "stream",
     "text": [
      "Connection accepted!\n"
     ]
    },
    {
     "name": "stderr",
     "output_type": "stream",
     "text": [
      "The attention mask and the pad token id were not set. As a consequence, you may observe unexpected behavior. Please pass your input's `attention_mask` to obtain reliable results.\n",
      "Setting `pad_token_id` to `eos_token_id`:32021 for open-end generation.\n"
     ]
    },
    {
     "name": "stdout",
     "output_type": "stream",
     "text": [
      "Starting tree\n",
      "<src.socket_service.SocketService object at 0x7f1565748760>\n",
      "<src.socket_service.SocketService object at 0x7f1565748760>\n"
     ]
    },
    {
     "name": "stderr",
     "output_type": "stream",
     "text": [
      "The attention mask and the pad token id were not set. As a consequence, you may observe unexpected behavior. Please pass your input's `attention_mask` to obtain reliable results.\n",
      "Setting `pad_token_id` to `eos_token_id`:32021 for open-end generation.\n"
     ]
    },
    {
     "name": "stdout",
     "output_type": "stream",
     "text": [
      "<src.socket_service.SocketService object at 0x7f1565748760>\n"
     ]
    }
   ],
   "source": [
    "import uvicorn\n",
    "import nest_asyncio\n",
    "from fastapi import FastAPI, WebSocket, BackgroundTasks\n",
    "from fastapi.responses import JSONResponse\n",
    "from fastapi.middleware.cors import CORSMiddleware\n",
    "from src.constants import UI_URL, WORKER_URL\n",
    "from src.socket_service import SocketService\n",
    "from src.work import process_work\n",
    "from src.models.requests import ProcessRequest\n",
    "\n",
    "nest_asyncio.apply()\n",
    "\n",
    "app = FastAPI()\n",
    "\n",
    "origins = [\n",
    "    str(UI_URL),\n",
    "    str(WORKER_URL),\n",
    "]\n",
    "\n",
    "app.add_middleware(\n",
    "    CORSMiddleware,\n",
    "    allow_origins=origins,\n",
    "    allow_credentials=True,\n",
    "    allow_methods=[\"*\"],\n",
    "    allow_headers=[\"*\"],\n",
    ")\n",
    "\n",
    "work = None\n",
    "\n",
    "@app.post(\"/process\")\n",
    "async def process(request: ProcessRequest, background_tasks: BackgroundTasks):\n",
    "    SocketService.register_incoming_id(request.socket)\n",
    "    global work\n",
    "    work = request.work\n",
    "    # background_tasks.add_task(process_work, request.work)\n",
    "    return JSONResponse(content={\"status\": 200})\n",
    "\n",
    "@app.websocket(\"/ws/{socket_id}\")\n",
    "async def websocket_endpoint(websocket: WebSocket, socket_id: str, background_tasks: BackgroundTasks):\n",
    "    async with SocketService(websocket, socket_id) as connection:\n",
    "        await connection.listen()\n",
    "        background_tasks.add_task(process_work, work)\n",
    "\n",
    "\n",
    "if __name__ == \"__main__\":\n",
    "    import uvicorn\n",
    "    uvicorn.run(app, host=\"0.0.0.0\", port=PORT)"
   ]
  }
 ],
 "metadata": {
  "kernelspec": {
   "display_name": "Python 3 (ipykernel)",
   "language": "python",
   "name": "python3"
  },
  "language_info": {
   "codemirror_mode": {
    "name": "ipython",
    "version": 3
   },
   "file_extension": ".py",
   "mimetype": "text/x-python",
   "name": "python",
   "nbconvert_exporter": "python",
   "pygments_lexer": "ipython3",
   "version": "3.10.12"
  }
 },
 "nbformat": 4,
 "nbformat_minor": 2
}
